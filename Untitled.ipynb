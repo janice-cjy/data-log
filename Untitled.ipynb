{
 "cells": [
  {
   "cell_type": "code",
   "execution_count": 4,
   "metadata": {},
   "outputs": [],
   "source": [
    "import os\n",
    "rootdir = 'data'\n",
    "list = os.listdir(rootdir) #列出文件夹下所有的目录与文件\n",
    "for i in range(0,len(list)):\n",
    "    path = os.path.join(rootdir,list[i])\n",
    "    if os.path.isfile(path):\n",
    "        f = open(path)             \n",
    "        line = f.readlines()\n",
    "        f.close()\n",
    "        wf = open('result.txt', 'a')\n",
    "        wf.write(list[i].split(\"_\")[0]+\",\"+list[i].split(\"_\")[1].split(\".\")[0]+\",\"+str(len(line))+\"\\n\")\n",
    "        wf.close()\n"
   ]
  },
  {
   "cell_type": "code",
   "execution_count": null,
   "metadata": {},
   "outputs": [],
   "source": []
  }
 ],
 "metadata": {
  "kernelspec": {
   "display_name": "Python 3",
   "language": "python",
   "name": "python3"
  },
  "language_info": {
   "codemirror_mode": {
    "name": "ipython",
    "version": 3
   },
   "file_extension": ".py",
   "mimetype": "text/x-python",
   "name": "python",
   "nbconvert_exporter": "python",
   "pygments_lexer": "ipython3",
   "version": "3.7.3"
  }
 },
 "nbformat": 4,
 "nbformat_minor": 2
}
